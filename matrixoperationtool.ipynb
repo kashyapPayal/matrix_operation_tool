{
 "cells": [
  {
   "cell_type": "code",
   "execution_count": 13,
   "id": "b506d590-6f46-4718-9e92-dd0b2aba72c5",
   "metadata": {},
   "outputs": [
    {
     "name": "stdin",
     "output_type": "stream",
     "text": [
      "enter the rows 3\n",
      "enter the column 3\n",
      "1 2 4 5\n",
      "2 1 3 5\n",
      "3 7 8 5\n",
      "enter the rows 3\n",
      "enter the column 3\n",
      "1 1 9 87\n",
      "2 3 5 76\n",
      "3 1 2 43\n"
     ]
    }
   ],
   "source": [
    "'''Create a \"Matrix Operations Tool\" using Python and the NumPy library.\n",
    "The application should allow users to input matrices and perform operations like addition, subtraction, multiplication, transpose, and determinant calculation.\n",
    "Include an interactive interface to display results in a structured format.'''\n",
    "# FIRST TASK\n",
    "import numpy as np\n",
    "def display_matrix():\n",
    "    rows=int(input(\"enter the rows\"))\n",
    "    column=int(input(\"enter the column\"))\n",
    "    matrix=[]\n",
    "    for i in range(rows):\n",
    "        row=list(map(int,input(f\"{i+1}\").split()))\n",
    "        matrix.append(row)\n",
    "    return np.array(matrix)\n",
    "A=display_matrix()        \n",
    "B=display_matrix()\n",
    "\n",
    "\n",
    "   "
   ]
  },
  {
   "cell_type": "code",
   "execution_count": 14,
   "id": "ecd3ec60-d7a8-44ea-a026-b845a35e4470",
   "metadata": {},
   "outputs": [
    {
     "data": {
      "text/plain": [
       "array([[ 3, 13, 92],\n",
       "       [ 4,  8, 81],\n",
       "       [ 8, 10, 48]])"
      ]
     },
     "execution_count": 14,
     "metadata": {},
     "output_type": "execute_result"
    }
   ],
   "source": [
    "# TWO MATRIX ADDITION\n",
    "def addition(A,B):\n",
    "    if A.shape==B.shape:\n",
    "        return np.add(A,B)\n",
    "    else :\n",
    "        print(\"MATRIX A AND B SHOULD BE SAME SHAPE FOR ADDITION\")\n",
    "        return None\n",
    "    display_matrix()\n",
    "addition(A,B)"
   ]
  },
  {
   "cell_type": "code",
   "execution_count": 15,
   "id": "e0cac276-6f9a-4e1c-9ad7-cc3850d85f52",
   "metadata": {},
   "outputs": [
    {
     "data": {
      "text/plain": [
       "array([[  1,  -5, -82],\n",
       "       [ -2,  -2, -71],\n",
       "       [  6,   6, -38]])"
      ]
     },
     "execution_count": 15,
     "metadata": {},
     "output_type": "execute_result"
    }
   ],
   "source": [
    "# TWO MATRIX SUBTRACTION\n",
    "def subtraction(A,B):\n",
    "    if A.shape==B.shape:\n",
    "        return np.subtract(A,B)\n",
    "    else :\n",
    "        print(\"MATRIX A AND B SHOULD BE SAME SHAPE FOR SUBTRACTION\")\n",
    "        return None\n",
    "    display_matrix()\n",
    "subtraction(A,B)"
   ]
  },
  {
   "cell_type": "code",
   "execution_count": 16,
   "id": "e7e08f0c-a28c-403b-9056-381efdf8cf47",
   "metadata": {},
   "outputs": [
    {
     "data": {
      "text/plain": [
       "array([[  19,   48,  693],\n",
       "       [  15,   34,  530],\n",
       "       [  36,  113, 1432]])"
      ]
     },
     "execution_count": 16,
     "metadata": {},
     "output_type": "execute_result"
    }
   ],
   "source": [
    "# TWO MATRIX MULTIPLY\n",
    "def multiply(A,B):\n",
    "    if A.shape==B.shape:\n",
    "        return np.dot(A,B)\n",
    "    else :\n",
    "        print(\"MATRIX A AND B SHOULD BE SAME FOR MULTIPLICATION\")\n",
    "        return None\n",
    "    display_matrix()\n",
    "multiply(A,B)"
   ]
  },
  {
   "cell_type": "code",
   "execution_count": 17,
   "id": "22e185d6-cece-4cc5-9a80-b41245d53d79",
   "metadata": {},
   "outputs": [
    {
     "data": {
      "text/plain": [
       "array([[2, 1, 7],\n",
       "       [4, 3, 8],\n",
       "       [5, 5, 5]])"
      ]
     },
     "execution_count": 17,
     "metadata": {},
     "output_type": "execute_result"
    }
   ],
   "source": [
    "# TRANSPOSE OF A MATRIX\n",
    "def transpose(A):\n",
    "    return np.transpose(A)\n",
    "transpose(A)"
   ]
  },
  {
   "cell_type": "code",
   "execution_count": 18,
   "id": "b3581f11-05d7-4561-ae9c-f4004a973512",
   "metadata": {},
   "outputs": [
    {
     "data": {
      "text/plain": [
       "4.999999999999998"
      ]
     },
     "execution_count": 18,
     "metadata": {},
     "output_type": "execute_result"
    }
   ],
   "source": [
    "# DETERMINANT OF A MATRIX\n",
    "def determinant(A):\n",
    "    if A.shape==B.shape:\n",
    "        return np.linalg.det(A)\n",
    "    else :\n",
    "        print(\"MATRIX A SHOULD BE A SQUARE \")\n",
    "        return None\n",
    "    display_matrix()\n",
    "determinant(A)"
   ]
  },
  {
   "cell_type": "code",
   "execution_count": 19,
   "id": "deba7e3b-b1cf-40c3-ad05-df364663d4a9",
   "metadata": {},
   "outputs": [
    {
     "data": {
      "text/plain": [
       "array([[-5. ,  4. ,  1. ],\n",
       "       [ 6. , -5. , -1. ],\n",
       "       [-2.6,  2.4,  0.4]])"
      ]
     },
     "execution_count": 19,
     "metadata": {},
     "output_type": "execute_result"
    }
   ],
   "source": [
    "# INVERSE OF A MATRIX\n",
    "def inverse(A):\n",
    "    return np.linalg.inv(A)\n",
    "inverse(A)"
   ]
  },
  {
   "cell_type": "code",
   "execution_count": 20,
   "id": "fe75fc26-43c1-41ec-aaa1-48331dc15550",
   "metadata": {},
   "outputs": [
    {
     "data": {
      "text/plain": [
       "3"
      ]
     },
     "execution_count": 20,
     "metadata": {},
     "output_type": "execute_result"
    }
   ],
   "source": [
    "# RANK OF A MATRIX\n",
    "def rank(A):\n",
    "    return np.linalg.matrix_rank(A)\n",
    "rank(A)"
   ]
  },
  {
   "cell_type": "code",
   "execution_count": 21,
   "id": "aa5521c7-784d-4184-9920-952df2310c04",
   "metadata": {},
   "outputs": [
    {
     "name": "stdout",
     "output_type": "stream",
     "text": [
      "matrix operation tool\n"
     ]
    },
    {
     "name": "stdin",
     "output_type": "stream",
     "text": [
      "enter the choice 6\n"
     ]
    },
    {
     "data": {
      "text/plain": [
       "'INVERSE[[-5.   4.   1. ]\\n [ 6.  -5.  -1. ]\\n [-2.6  2.4  0.4]]'"
      ]
     },
     "execution_count": 21,
     "metadata": {},
     "output_type": "execute_result"
    }
   ],
   "source": [
    "# overall structured format for interactive output\n",
    "def main():\n",
    "    print(\"matrix operation tool\")\n",
    "    choice=(input(\"enter the choice\"))\n",
    "    if choice==\"1\":\n",
    "        return f\"ADDITION{addtion(A,B)}\"\n",
    "    elif choice==\"2\":\n",
    "        return f\"SUBTRACTION{subtraction(A,B)}\"\n",
    "    elif choice==\"3\":\n",
    "        return f\"MULTIPLY{multiply(A,B)}\"\n",
    "    elif choice==\"4\":\n",
    "        return f\"TRANSPOSE{transpose(A)}\"\n",
    "    elif choice==\"5\":\n",
    "        return f\"DETERMINANT{determinant(A)}\"\n",
    "    elif choice==\"6\":\n",
    "        return f\"INVERSE{inverse(A)}\"\n",
    "    elif choice==\"7\":\n",
    "        return f\"RANK{rank(A)}\"\n",
    "    else:\n",
    "        print(\"INVALID INPUT\")\n",
    "main()        \n"
   ]
  },
  {
   "cell_type": "code",
   "execution_count": null,
   "id": "dc74d2b3-92ef-4ba4-8715-7f25256efb31",
   "metadata": {},
   "outputs": [],
   "source": []
  }
 ],
 "metadata": {
  "kernelspec": {
   "display_name": "Python 3 (ipykernel)",
   "language": "python",
   "name": "python3"
  },
  "language_info": {
   "codemirror_mode": {
    "name": "ipython",
    "version": 3
   },
   "file_extension": ".py",
   "mimetype": "text/x-python",
   "name": "python",
   "nbconvert_exporter": "python",
   "pygments_lexer": "ipython3",
   "version": "3.12.7"
  }
 },
 "nbformat": 4,
 "nbformat_minor": 5
}
